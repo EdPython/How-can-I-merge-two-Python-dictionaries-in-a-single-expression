{
 "cells": [
  {
   "cell_type": "code",
   "execution_count": 1,
   "id": "e52687b2",
   "metadata": {},
   "outputs": [],
   "source": [
    "# How can I merge two Python dictionaries in a single expression?"
   ]
  },
  {
   "cell_type": "code",
   "execution_count": 2,
   "id": "ee55b458",
   "metadata": {},
   "outputs": [],
   "source": [
    "dict1 = {1: 'The Half of It', 2: 'How to Train Your Dragon 2', 3: 'Hugo'}"
   ]
  },
  {
   "cell_type": "code",
   "execution_count": 3,
   "id": "f7f51136",
   "metadata": {},
   "outputs": [],
   "source": [
    "dict2 = {4: 'Lady Bird', 5: 'Middle of Nowhere', 6: 'Mudbound'}"
   ]
  },
  {
   "cell_type": "code",
   "execution_count": 4,
   "id": "e230d972",
   "metadata": {},
   "outputs": [],
   "source": [
    "dict3 = dict1 | dict2 # Python 3.9+ Only"
   ]
  },
  {
   "cell_type": "code",
   "execution_count": 5,
   "id": "40b361d6",
   "metadata": {},
   "outputs": [
    {
     "data": {
      "text/plain": [
       "{1: 'The Half of It',\n",
       " 2: 'How to Train Your Dragon 2',\n",
       " 3: 'Hugo',\n",
       " 4: 'Lady Bird',\n",
       " 5: 'Middle of Nowhere',\n",
       " 6: 'Mudbound'}"
      ]
     },
     "execution_count": 5,
     "metadata": {},
     "output_type": "execute_result"
    }
   ],
   "source": [
    "dict3"
   ]
  },
  {
   "cell_type": "code",
   "execution_count": 6,
   "id": "6a59ac92",
   "metadata": {},
   "outputs": [],
   "source": [
    "dict4 = {**dict1, **dict2} # Python 3.5+ Only"
   ]
  },
  {
   "cell_type": "code",
   "execution_count": 7,
   "id": "c99c5be8",
   "metadata": {},
   "outputs": [
    {
     "data": {
      "text/plain": [
       "{1: 'The Half of It',\n",
       " 2: 'How to Train Your Dragon 2',\n",
       " 3: 'Hugo',\n",
       " 4: 'Lady Bird',\n",
       " 5: 'Middle of Nowhere',\n",
       " 6: 'Mudbound'}"
      ]
     },
     "execution_count": 7,
     "metadata": {},
     "output_type": "execute_result"
    }
   ],
   "source": [
    "dict4"
   ]
  },
  {
   "cell_type": "code",
   "execution_count": null,
   "id": "53782b7d",
   "metadata": {},
   "outputs": [],
   "source": []
  }
 ],
 "metadata": {
  "kernelspec": {
   "display_name": "Python 3",
   "language": "python",
   "name": "python3"
  },
  "language_info": {
   "codemirror_mode": {
    "name": "ipython",
    "version": 3
   },
   "file_extension": ".py",
   "mimetype": "text/x-python",
   "name": "python",
   "nbconvert_exporter": "python",
   "pygments_lexer": "ipython3",
   "version": "3.9.2"
  }
 },
 "nbformat": 4,
 "nbformat_minor": 5
}
